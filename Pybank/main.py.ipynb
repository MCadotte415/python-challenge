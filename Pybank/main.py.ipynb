

{
 "cells": [
  {
   "cell_type": "code",
   "execution_count": null,
   "id": "2e8738c8",
   "metadata": {},
   "outputs": [],
   "source": [
    "#import libraries\n",
    "import os\n",
    "import csv"
   ]
  },
  {
   "cell_type": "code",
   "execution_count": null,
   "id": "f058a402",
   "metadata": {},
   "outputs": [],
   "source": [
    "#create dataset\n",
    "budget = os.path.join(\"Resources\",\"budget_data.csv\")"
   ]
  },
  {
   "cell_type": "code",
   "execution_count": null,
   "id": "598fd64d",
   "metadata": {},
   "outputs": [],
   "source": [
    "#values\n",
    "total_months = 0\n",
    "total_profit_loss = 0\n",
    "value = 0\n",
    "change = 0\n",
    "dates = []\n",
    "profits = []"
   ]
  },
  {
   "cell_type": "code",
   "execution_count": null,
   "id": "213eeb0b",
   "metadata": {},
   "outputs": [],
   "source": [
    "#open and read csv file\n",
    "with open(budget)as csvfile:\n",
    "    csvreader = csv.reader(csvfile, delimiter=\",\")\n",
    "    csv_header = (csvreader)\n",
    "    #read first row\n",
    "    for row in csvreader:\n",
    "        first_row = next(csvreader)\n",
    "        total_months += 1\n",
    "        total_profit_loss += int(first_row[1])\n",
    "        value = int(first_row[1])\n",
    "        #track dates\n",
    "        dates.append(row[0])\n",
    "        #track change in profit/loss\n",
    "        change = int(row[1])-value\n",
    "        profits.append(change)\n",
    "        value = int(row[1])\n",
    "        #total months\n",
    "        total_months += 1\n",
    "        total_profit_loss = total_profit_loss + int(row[1])"
   ]
  },
  {
   "cell_type": "code",
   "execution_count": null,
   "id": "b860ab77",
   "metadata": {},
   "outputs": [],
   "source": [
    "#calculate greatest increase\n",
    "greatest_profit = max(profits)\n",
    "greatest_index = profits.index(greatest_profit)\n",
    "greatest_date = dates[greatest_index]\n"
   ]
  },
  {
   "cell_type": "code",
   "execution_count": null,
   "id": "9a18a36d",
   "metadata": {},
   "outputs": [],
   "source": [
    "#calculate greatest decrease\n",
    "greatest_loss = min(profits)\n",
    "worst_index = profits.index(greatest_loss)\n",
    "worst_date = dates[worst_index]\n"
   ]
  },
  {
   "cell_type": "code",
   "execution_count": null,
   "id": "3a88cb1a",
   "metadata": {},
   "outputs": [],
   "source": [
    "#average change in profit/loss\n",
    "ave_change = sum(profits)/len(profits)\n"
   ]
  },
  {
   "cell_type": "code",
   "execution_count": null,
   "id": "bbd9d3a2",
   "metadata": {},
   "outputs": [],
   "source": [
    "#print information\n",
    "print(\"Financial Analysis\")\n",
    "print(\"---------------------\")\n",
    "print(f\"total months: {str(total_months)}\")\n",
    "print(f\"total: {str(total_profit_loss)}\")\n",
    "print(f\"average change: {str(round(ave_change, 2))}\")\n",
    "print(f\"Greatest Increase in Profits: {greatest_date} ({str(greatest_profit)})\")\n",
    "print(f\"Greatest Decrease in Profits: {worst_date} ({str(greatest_loss)})\")"
   ]
  },
  {
   "cell_type": "code",
   "execution_count": null,
   "id": "62f92969",
   "metadata": {},
   "outputs": [],
   "source": [
    "#Exporing to .txt file\n",
    "output = open(\"output.txt\", \"w\")\n",
    "\n",
    "line1 = \"Financial Analysis\"\n",
    "line2 = \"---------------------\"\n",
    "line3 = str(f\"Total Months: {str(total_months)}\")\n",
    "line4 = str(f\"Total: ${str(total_profit_loss)}\")\n",
    "line5 = str(f\"Average Change: ${str(round(ave_change,2))}\")\n",
    "line6 = str(f\"Greatest Increase in Profits: {greatest_date} (${str(greatest_profit)})\")\n",
    "line7 = str(f\"Greatest Decrease in Profits: {worst_date} (${str(greatest_loss)})\")\n",
    "output.write('{}\\n{}\\n{}\\n{}\\n{}\\n{}\\n{}\\n'.format(line1,line2,line3,line4,line5,line6,line7))\n"
   ]
  },
  {
   "cell_type": "code",
   "execution_count": null,
   "id": "f7a5af8e",
   "metadata": {},
   "outputs": [],
   "source": []
  }
 ],
 "metadata": {
  "kernelspec": {
   "display_name": "PythonData",
   "language": "python",
   "name": "pythondata"
  },
  "language_info": {
   "codemirror_mode": {
    "name": "ipython",
    "version": 3
   },
   "file_extension": ".py",
   "mimetype": "text/x-python",
   "name": "python",
   "nbconvert_exporter": "python",
   "pygments_lexer": "ipython3",
   "version": "3.7.7"
  }
 },
 "nbformat": 4,
 "nbformat_minor": 5
}
