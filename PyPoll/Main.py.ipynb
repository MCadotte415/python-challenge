{
 "cells": [
  {
   "cell_type": "code",
   "execution_count": 38,
   "id": "4ffe63bd",
   "metadata": {},
   "outputs": [],
   "source": [
    "import os\n",
    "import csv"
   ]
  },
  {
   "cell_type": "code",
   "execution_count": 39,
   "id": "4c3b7275",
   "metadata": {},
   "outputs": [],
   "source": [
    "election = os.path.join(\"Resources/election_data.csv\")"
   ]
  },
  {
   "cell_type": "code",
   "execution_count": 40,
   "id": "8c6a6953",
   "metadata": {},
   "outputs": [],
   "source": [
    "candidates = []\n",
    "can_votes = []\n",
    "per_votes = []\n",
    "total_votes = 0"
   ]
  },
  {
   "cell_type": "code",
   "execution_count": 41,
   "id": "1af37faf",
   "metadata": {},
   "outputs": [],
   "source": [
    "with open (election) as csvfile:\n",
    "    csvreader = csv.reader(csvfile, delimiter = \",\")\n",
    "    for row in csvreader:\n",
    "        total_votes += 1\n",
    "        \n",
    "        if row[2] not in candidates:\n",
    "            candidates.append(row[2])\n",
    "            index = candidates.index(row[2])\n",
    "            can_votes.append(1)\n",
    "        else:\n",
    "            index = candidates.index(row[2])\n",
    "            can_votes[index] += 1\n",
    "    for votes in can_votes:\n",
    "        percentage = (votes/total_votes) * 100\n",
    "        percentage = \"%.3f\" % percentage\n",
    "        per_votes.append(percentage)"
   ]
  },
  {
   "cell_type": "code",
   "execution_count": 42,
   "id": "700e42f1",
   "metadata": {},
   "outputs": [],
   "source": [
    "winner = max(can_votes)\n",
    "index = can_votes.index(winner)\n",
    "winning_candidate = candidates[index]\n"
   ]
  },
  {
   "cell_type": "code",
   "execution_count": 43,
   "id": "e1899a04",
   "metadata": {},
   "outputs": [
    {
     "name": "stdout",
     "output_type": "stream",
     "text": [
      "Election Results\n",
      "--------------------------\n",
      "Total Votes: 369712\n",
      "--------------------------\n",
      "Candidate: 0.000 (1)\n",
      "Charles Casper Stockham: 23.048 (85213)\n",
      "Diana DeGette: 73.812 (272892)\n",
      "Raymon Anthony Doane: 3.139 (11606)\n",
      "--------------------------\n",
      "Winner: Diana DeGette\n",
      "--------------------------\n"
     ]
    }
   ],
   "source": [
    "print(\"Election Results\")\n",
    "print(\"--------------------------\")\n",
    "print(f\"Total Votes: {str(total_votes)}\")\n",
    "print(\"--------------------------\")\n",
    "for i in range(len(candidates)):\n",
    "    print(f\"{candidates[i]}: {str(per_votes[i])} ({str(can_votes[i])})\")\n",
    "print(\"--------------------------\")\n",
    "print(f\"Winner: {winning_candidate}\")\n",
    "print(\"--------------------------\")"
   ]
  },
  {
   "cell_type": "code",
   "execution_count": 44,
   "id": "deb6f032",
   "metadata": {},
   "outputs": [
    {
     "data": {
      "text/plain": [
       "76"
      ]
     },
     "execution_count": 44,
     "metadata": {},
     "output_type": "execute_result"
    }
   ],
   "source": [
    "output = open(\"analysis.txt\", \"w\")\n",
    "line1 = \"Election Results\"\n",
    "line2 = \"--------------------------\"\n",
    "line3 = str(f\"Total Votes: {str(total_votes)}\")\n",
    "line4 = str(\"--------------------------\")\n",
    "output.write('{}\\n{}\\n{}\\n{}\\n'.format(line1, line2, line3, line4))\n",
    "for i in range(len(candidates)):\n",
    "    line = str(f\"{candidates[i]}: {str(per_votes[i])} ({str(can_votes[i])})\")\n",
    "    output.write('{}\\n'.format(line))\n",
    "line5 = \"--------------------------\"\n",
    "line6 = str(f\"Winner: {winning_candidate}\")\n",
    "line7 = \"--------------------------\"\n",
    "output.write('{}\\n{}\\n{}\\n'.format(line5, line6, line7))"
   ]
  },
  {
   "cell_type": "code",
   "execution_count": null,
   "id": "a2a419cf",
   "metadata": {},
   "outputs": [],
   "source": []
  },
  {
   "cell_type": "code",
   "execution_count": null,
   "id": "b38b82ce",
   "metadata": {},
   "outputs": [],
   "source": []
  }
 ],
 "metadata": {
  "kernelspec": {
   "display_name": "PythonData",
   "language": "python",
   "name": "pythondata"
  },
  "language_info": {
   "codemirror_mode": {
    "name": "ipython",
    "version": 3
   },
   "file_extension": ".py",
   "mimetype": "text/x-python",
   "name": "python",
   "nbconvert_exporter": "python",
   "pygments_lexer": "ipython3",
   "version": "3.7.7"
  }
 },
 "nbformat": 4,
 "nbformat_minor": 5
}
