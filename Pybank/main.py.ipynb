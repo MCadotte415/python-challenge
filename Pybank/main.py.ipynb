{
 "cells": [
  {
   "cell_type": "code",
   "execution_count": 10,
   "id": "6c7b5610",
   "metadata": {},
   "outputs": [],
   "source": [
    "import os\n",
    "import csv"
   ]
  },
  {
   "cell_type": "code",
   "execution_count": 11,
   "id": "59ba2d8e",
   "metadata": {},
   "outputs": [],
   "source": [
    "budget = os.path.join(\"Resources/budget_data.csv\")"
   ]
  },
  {
   "cell_type": "code",
   "execution_count": 12,
   "id": "adfd9ed0",
   "metadata": {},
   "outputs": [],
   "source": [
    "total_months = 0\n",
    "total_profit_loss = 0\n",
    "value = 0\n",
    "change = 0\n",
    "dates = []\n",
    "profits = []"
   ]
  },
  {
   "cell_type": "code",
   "execution_count": 13,
   "id": "17ffa322",
   "metadata": {},
   "outputs": [],
   "source": [
    "with open('budget_data.csv')as csvfile:\n",
    "    csvreader = csv.reader(csvfile, delimiter=\",\")\n",
    "    csv_header = next(csvreader)\n",
    "    for row in csvreader:\n",
    "        first_row = next(csvreader)\n",
    "        total_months += 1\n",
    "        total_profit_loss += int(first_row[1])\n",
    "        value = int(first_row[1])\n",
    "        \n",
    "        dates.append(row[0])\n",
    "        \n",
    "        change = int(row[1])-value\n",
    "        profits.append(change)\n",
    "        value = int(row[1])\n",
    "        \n",
    "        total_months += 1\n",
    "        total_profit_loss = total_profit_loss + int(row[1])"
   ]
  },
  {
   "cell_type": "code",
   "execution_count": 14,
   "id": "37c09787",
   "metadata": {},
   "outputs": [],
   "source": [
    "greatest_profit = max(profits)\n",
    "greatest_index = profits.index(greatest_profit)\n",
    "greatest_date = dates[greatest_index]\n"
   ]
  },
  {
   "cell_type": "code",
   "execution_count": 15,
   "id": "a92e4262",
   "metadata": {},
   "outputs": [],
   "source": [
    "greatest_loss = min(profits)\n",
    "worst_index = profits.index(greatest_loss)\n",
    "worst_date = dates[worst_index]\n"
   ]
  },
  {
   "cell_type": "code",
   "execution_count": 16,
   "id": "f300274f",
   "metadata": {},
   "outputs": [],
   "source": [
    "ave_change = sum(profits)/len(profits)\n"
   ]
  },
  {
   "cell_type": "code",
   "execution_count": 17,
   "id": "62d8df0b",
   "metadata": {},
   "outputs": [
    {
     "name": "stdout",
     "output_type": "stream",
     "text": [
      "Financial Analysis\n",
      "---------------------\n",
      "total months: 86\n",
      "total: 22564198\n",
      "average change: 178648.51\n",
      "Greatest Increase in Profits: Jan-14 (1825558)\n",
      "Greatest Decrease in Profits: Jul-16 (-1862002)\n"
     ]
    }
   ],
   "source": [
    "\n",
    "print(\"Financial Analysis\")\n",
    "print(\"---------------------\")\n",
    "print(f\"total months: {str(total_months)}\")\n",
    "print(f\"total: {str(total_profit_loss)}\")\n",
    "print(f\"average change: {str(round(ave_change, 2))}\")\n",
    "print(f\"Greatest Increase in Profits: {greatest_date} ({str(greatest_profit)})\")\n",
    "print(f\"Greatest Decrease in Profits: {worst_date} ({str(greatest_loss)})\")"
   ]
  },
  {
   "cell_type": "code",
   "execution_count": 18,
   "id": "0d248265",
   "metadata": {},
   "outputs": [
    {
     "data": {
      "text/plain": [
       "199"
      ]
     },
     "execution_count": 18,
     "metadata": {},
     "output_type": "execute_result"
    }
   ],
   "source": [
    "#Exporing to .txt file\n",
    "output = open(\"output.txt\", \"w\")\n",
    "\n",
    "line1 = \"Financial Analysis\"\n",
    "line2 = \"---------------------\"\n",
    "line3 = str(f\"Total Months: {str(total_months)}\")\n",
    "line4 = str(f\"Total: ${str(total_profit_loss)}\")\n",
    "line5 = str(f\"Average Change: ${str(round(ave_change,2))}\")\n",
    "line6 = str(f\"Greatest Increase in Profits: {greatest_date} (${str(greatest_profit)})\")\n",
    "line7 = str(f\"Greatest Decrease in Profits: {worst_date} (${str(greatest_loss)})\")\n",
    "output.write('{}\\n{}\\n{}\\n{}\\n{}\\n{}\\n{}\\n'.format(line1,line2,line3,line4,line5,line6,line7))\n"
   ]
  },
  {
   "cell_type": "code",
   "execution_count": null,
   "id": "ac9864e3",
   "metadata": {},
   "outputs": [],
   "source": []
  }
 ],
 "metadata": {
  "kernelspec": {
   "display_name": "PythonData",
   "language": "python",
   "name": "pythondata"
  },
  "language_info": {
   "codemirror_mode": {
    "name": "ipython",
    "version": 3
   },
   "file_extension": ".py",
   "mimetype": "text/x-python",
   "name": "python",
   "nbconvert_exporter": "python",
   "pygments_lexer": "ipython3",
   "version": "3.7.7"
  }
 },
 "nbformat": 4,
 "nbformat_minor": 5
}
